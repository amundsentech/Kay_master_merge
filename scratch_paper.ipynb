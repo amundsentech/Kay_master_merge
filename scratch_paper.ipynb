{
 "cells": [
  {
   "cell_type": "code",
   "execution_count": 1,
   "metadata": {},
   "outputs": [
    {
     "name": "stdout",
     "output_type": "stream",
     "text": [
      "check for pandas\n",
      "pandas is properly installed\n",
      "check for tqdm\n",
      "tqdm is properly installed\n",
      "check for numpy\n",
      "numpy is properly installed\n",
      "check for openpyxl\n",
      "openpyxl is properly installed\n"
     ]
    }
   ],
   "source": [
    "import pandas as pd\n",
    "import cleaningtools as ct\n",
    "from tqdm.notebook import tqdm_notebook as tqdm\n",
    "tqdm.pandas()\n"
   ]
  },
  {
   "cell_type": "code",
   "execution_count": 1,
   "metadata": {},
   "outputs": [],
   "source": [
    "columns=['Hole _id', 'hole_ID',]"
   ]
  },
  {
   "cell_type": "code",
   "execution_count": 2,
   "metadata": {},
   "outputs": [
    {
     "data": {
      "text/plain": [
       "['hole_id', 'hole_id']"
      ]
     },
     "execution_count": 2,
     "metadata": {},
     "output_type": "execute_result"
    }
   ],
   "source": [
    "sheets=pd.ExcelFile()\n"
   ]
  },
  {
   "cell_type": "code",
   "execution_count": 2,
   "metadata": {},
   "outputs": [
    {
     "data": {
      "text/html": [
       "<div>\n",
       "<style scoped>\n",
       "    .dataframe tbody tr th:only-of-type {\n",
       "        vertical-align: middle;\n",
       "    }\n",
       "\n",
       "    .dataframe tbody tr th {\n",
       "        vertical-align: top;\n",
       "    }\n",
       "\n",
       "    .dataframe thead th {\n",
       "        text-align: right;\n",
       "    }\n",
       "</style>\n",
       "<table border=\"1\" class=\"dataframe\">\n",
       "  <thead>\n",
       "    <tr style=\"text-align: right;\">\n",
       "      <th></th>\n",
       "      <th>Work_Order</th>\n",
       "      <th>Sample_ID</th>\n",
       "      <th>Hole_ID</th>\n",
       "      <th>From_ft</th>\n",
       "      <th>To_ft</th>\n",
       "      <th>From_m</th>\n",
       "      <th>To_m</th>\n",
       "    </tr>\n",
       "  </thead>\n",
       "  <tbody>\n",
       "    <tr>\n",
       "      <th>0</th>\n",
       "      <td>TU20017795</td>\n",
       "      <td>B300016</td>\n",
       "      <td>KM-20-01</td>\n",
       "      <td>469.5</td>\n",
       "      <td>472.0</td>\n",
       "      <td>143.1036</td>\n",
       "      <td>143.8656</td>\n",
       "    </tr>\n",
       "    <tr>\n",
       "      <th>1</th>\n",
       "      <td>TU20017795</td>\n",
       "      <td>B300017</td>\n",
       "      <td>KM-20-01</td>\n",
       "      <td>472.0</td>\n",
       "      <td>475.0</td>\n",
       "      <td>143.8656</td>\n",
       "      <td>144.7800</td>\n",
       "    </tr>\n",
       "    <tr>\n",
       "      <th>2</th>\n",
       "      <td>TU20017795</td>\n",
       "      <td>B300001</td>\n",
       "      <td>KM-20-01</td>\n",
       "      <td>884.0</td>\n",
       "      <td>887.0</td>\n",
       "      <td>269.4432</td>\n",
       "      <td>270.3576</td>\n",
       "    </tr>\n",
       "    <tr>\n",
       "      <th>3</th>\n",
       "      <td>TU20017795</td>\n",
       "      <td>B300002</td>\n",
       "      <td>KM-20-01</td>\n",
       "      <td>887.0</td>\n",
       "      <td>892.0</td>\n",
       "      <td>270.3576</td>\n",
       "      <td>271.8816</td>\n",
       "    </tr>\n",
       "    <tr>\n",
       "      <th>4</th>\n",
       "      <td>TU20017795</td>\n",
       "      <td>B300003</td>\n",
       "      <td>KM-20-01</td>\n",
       "      <td>892.0</td>\n",
       "      <td>897.0</td>\n",
       "      <td>271.8816</td>\n",
       "      <td>273.4056</td>\n",
       "    </tr>\n",
       "    <tr>\n",
       "      <th>...</th>\n",
       "      <td>...</td>\n",
       "      <td>...</td>\n",
       "      <td>...</td>\n",
       "      <td>...</td>\n",
       "      <td>...</td>\n",
       "      <td>...</td>\n",
       "      <td>...</td>\n",
       "    </tr>\n",
       "    <tr>\n",
       "      <th>4490</th>\n",
       "      <td>TU22229326</td>\n",
       "      <td>G453792</td>\n",
       "      <td>KM-22-84</td>\n",
       "      <td>1054.0</td>\n",
       "      <td>1058.5</td>\n",
       "      <td>321.2600</td>\n",
       "      <td>322.6300</td>\n",
       "    </tr>\n",
       "    <tr>\n",
       "      <th>4491</th>\n",
       "      <td>TU22229326</td>\n",
       "      <td>G453793</td>\n",
       "      <td>KM-22-84</td>\n",
       "      <td>1058.5</td>\n",
       "      <td>1063.5</td>\n",
       "      <td>322.6300</td>\n",
       "      <td>324.1500</td>\n",
       "    </tr>\n",
       "    <tr>\n",
       "      <th>4492</th>\n",
       "      <td>TU22229326</td>\n",
       "      <td>G453794</td>\n",
       "      <td>KM-22-84</td>\n",
       "      <td>1063.5</td>\n",
       "      <td>1067.5</td>\n",
       "      <td>324.1500</td>\n",
       "      <td>325.3700</td>\n",
       "    </tr>\n",
       "    <tr>\n",
       "      <th>4493</th>\n",
       "      <td>TU22229326</td>\n",
       "      <td>G453795</td>\n",
       "      <td>KM-22-84</td>\n",
       "      <td>1502.0</td>\n",
       "      <td>1507.0</td>\n",
       "      <td>457.8100</td>\n",
       "      <td>459.3300</td>\n",
       "    </tr>\n",
       "    <tr>\n",
       "      <th>4494</th>\n",
       "      <td>TU22229326</td>\n",
       "      <td>G453796</td>\n",
       "      <td>KM-22-84</td>\n",
       "      <td>1507.0</td>\n",
       "      <td>1510.0</td>\n",
       "      <td>459.3300</td>\n",
       "      <td>460.2500</td>\n",
       "    </tr>\n",
       "  </tbody>\n",
       "</table>\n",
       "<p>4495 rows × 7 columns</p>\n",
       "</div>"
      ],
      "text/plain": [
       "      Work_Order Sample_ID   Hole_ID  From_ft   To_ft    From_m      To_m\n",
       "0     TU20017795   B300016  KM-20-01    469.5   472.0  143.1036  143.8656\n",
       "1     TU20017795   B300017  KM-20-01    472.0   475.0  143.8656  144.7800\n",
       "2     TU20017795   B300001  KM-20-01    884.0   887.0  269.4432  270.3576\n",
       "3     TU20017795   B300002  KM-20-01    887.0   892.0  270.3576  271.8816\n",
       "4     TU20017795   B300003  KM-20-01    892.0   897.0  271.8816  273.4056\n",
       "...          ...       ...       ...      ...     ...       ...       ...\n",
       "4490  TU22229326   G453792  KM-22-84   1054.0  1058.5  321.2600  322.6300\n",
       "4491  TU22229326   G453793  KM-22-84   1058.5  1063.5  322.6300  324.1500\n",
       "4492  TU22229326   G453794  KM-22-84   1063.5  1067.5  324.1500  325.3700\n",
       "4493  TU22229326   G453795  KM-22-84   1502.0  1507.0  457.8100  459.3300\n",
       "4494  TU22229326   G453796  KM-22-84   1507.0  1510.0  459.3300  460.2500\n",
       "\n",
       "[4495 rows x 7 columns]"
      ]
     },
     "execution_count": 2,
     "metadata": {},
     "output_type": "execute_result"
    }
   ],
   "source": [
    "path='/Users/sebastiancoombs/Library/CloudStorage/GoogleDrive-sebastianbcoombs@gmail.com/Shared drives/AMC Projects/_AZ_Kay/_Drilling/Drill Samples/Sample Lists/Kay Master Assays Sample List 2022 10-07.xlsx'\n",
    "assay_samples=pd.read_excel(path)\n",
    "assay_samples"
   ]
  },
  {
   "cell_type": "code",
   "execution_count": null,
   "metadata": {},
   "outputs": [],
   "source": []
  },
  {
   "cell_type": "code",
   "execution_count": 4,
   "metadata": {},
   "outputs": [],
   "source": [
    "data=remove_depth_errors(data)"
   ]
  },
  {
   "cell_type": "code",
   "execution_count": 5,
   "metadata": {},
   "outputs": [
    {
     "data": {
      "text/html": [
       "<div>\n",
       "<style scoped>\n",
       "    .dataframe tbody tr th:only-of-type {\n",
       "        vertical-align: middle;\n",
       "    }\n",
       "\n",
       "    .dataframe tbody tr th {\n",
       "        vertical-align: top;\n",
       "    }\n",
       "\n",
       "    .dataframe thead th {\n",
       "        text-align: right;\n",
       "    }\n",
       "</style>\n",
       "<table border=\"1\" class=\"dataframe\">\n",
       "  <thead>\n",
       "    <tr style=\"text-align: right;\">\n",
       "      <th></th>\n",
       "      <th>Geo</th>\n",
       "      <th>Hole _ID</th>\n",
       "      <th>From_ft</th>\n",
       "      <th>To_ft</th>\n",
       "      <th>From_m</th>\n",
       "      <th>To_m</th>\n",
       "      <th>Structure</th>\n",
       "      <th>Angle</th>\n",
       "      <th>Description</th>\n",
       "      <th>Unnamed: 9</th>\n",
       "      <th>/.,</th>\n",
       "      <th>118</th>\n",
       "      <th>file</th>\n",
       "      <th>folder</th>\n",
       "    </tr>\n",
       "  </thead>\n",
       "  <tbody>\n",
       "  </tbody>\n",
       "</table>\n",
       "</div>"
      ],
      "text/plain": [
       "Empty DataFrame\n",
       "Columns: [Geo, Hole _ID, From_ft, To_ft, From_m, To_m, Structure, Angle, Description, Unnamed: 9, /.,, 118, file, folder]\n",
       "Index: []"
      ]
     },
     "execution_count": 5,
     "metadata": {},
     "output_type": "execute_result"
    }
   ],
   "source": [
    "data[data.From_m>data.To_m]"
   ]
  },
  {
   "cell_type": "code",
   "execution_count": null,
   "metadata": {},
   "outputs": [],
   "source": [
    "def fix(data,inx):\n",
    "    locs=[inx-1,inx,inx+1]\n",
    "    loc_extra=[inx-1,inx,inx+1,inx+2]\n",
    "    data.loc[locs,'From_ft']=data.loc[locs,'From_ft'].sort_values(ascending=False)\n",
    "    data.loc[locs,'To_ft']=data.loc[loc_extra,'To_ft'].sort_values(ascending=False).shift(-1)\n",
    "\n",
    "    return\n",
    "    "
   ]
  },
  {
   "cell_type": "code",
   "execution_count": null,
   "metadata": {},
   "outputs": [],
   "source": [
    "drop=data.filter(like='Unnamed:').columns\n",
    "data=data.drop(drop,axis=1)"
   ]
  },
  {
   "cell_type": "code",
   "execution_count": null,
   "metadata": {},
   "outputs": [],
   "source": [
    "data.to_csv(path,index=False)"
   ]
  }
 ],
 "metadata": {
  "kernelspec": {
   "display_name": "Python 3.9.12 ('base')",
   "language": "python",
   "name": "python3"
  },
  "language_info": {
   "codemirror_mode": {
    "name": "ipython",
    "version": 3
   },
   "file_extension": ".py",
   "mimetype": "text/x-python",
   "name": "python",
   "nbconvert_exporter": "python",
   "pygments_lexer": "ipython3",
   "version": "3.9.12"
  },
  "orig_nbformat": 4,
  "vscode": {
   "interpreter": {
    "hash": "40d3a090f54c6569ab1632332b64b2c03c39dcf918b08424e98f38b5ae0af88f"
   }
  }
 },
 "nbformat": 4,
 "nbformat_minor": 2
}
