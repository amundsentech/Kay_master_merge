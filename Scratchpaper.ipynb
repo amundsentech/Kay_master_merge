{
 "cells": [
  {
   "cell_type": "code",
   "execution_count": 2,
   "metadata": {},
   "outputs": [
    {
     "name": "stdout",
     "output_type": "stream",
     "text": [
      "check for pandas\n"
     ]
    }
   ],
   "source": [
    "import pandas as pd\n",
    "import cleaningtools as ct\n",
    "\n"
   ]
  },
  {
   "cell_type": "code",
   "execution_count": 24,
   "metadata": {},
   "outputs": [],
   "source": [
    "file='/Volumes/GoogleDrive/Shared drives/AMC Projects/_AZ_Kay/_Master Databases/lithology master.csv'\n",
    "data=pd.read_csv(file)"
   ]
  },
  {
   "cell_type": "code",
   "execution_count": 25,
   "metadata": {},
   "outputs": [
    {
     "name": "stdout",
     "output_type": "stream",
     "text": [
      "droping Unnamed: 9\n",
      "droping _2\n",
      "droping _3\n",
      "droping _4\n",
      "droping _5\n",
      "droping _6\n",
      "droping _7\n",
      "droping _8\n",
      "droping _9\n",
      "droping _10\n",
      "droping _11\n",
      "droping _12\n",
      "droping _13\n",
      "droping _14\n",
      "droping _15\n",
      "droping _16\n",
      "droping _17\n"
     ]
    }
   ],
   "source": [
    "def lith_cleanup(data):\n",
    "    for col in data.columns:\n",
    "        if data[col].isna().sum()==len(data):\n",
    "            print(f'dropping {col}')\n",
    "            data.drop(col,axis=1,inplace=True)\n",
    "    data.drop(data[data['Hole _ID'].isna()==True].index,axis=0,inplace=True)\n",
    "    print ('drop na hole ids')"
   ]
  },
  {
   "cell_type": "code",
   "execution_count": 28,
   "metadata": {},
   "outputs": [],
   "source": [
    "data.drop(data[data['Hole _ID'].isna()==True].index,axis=0,inplace=True)\n",
    "print ('drop na hole ids')"
   ]
  },
  {
   "cell_type": "code",
   "execution_count": 31,
   "metadata": {},
   "outputs": [
    {
     "data": {
      "text/plain": [
       "Geo             0\n",
       "Hole _ID        0\n",
       "From_ft         6\n",
       "To_ft           7\n",
       "From_m          1\n",
       "To_m            0\n",
       "Lithology      13\n",
       "Texture        12\n",
       "Description     6\n",
       "foldername      0\n",
       "filename        0\n",
       "dtype: int64"
      ]
     },
     "execution_count": 31,
     "metadata": {},
     "output_type": "execute_result"
    }
   ],
   "source": [
    "data.isna().sum()"
   ]
  },
  {
   "cell_type": "markdown",
   "metadata": {},
   "source": []
  }
 ],
 "metadata": {
  "kernelspec": {
   "display_name": "Python 3.9.12 ('base')",
   "language": "python",
   "name": "python3"
  },
  "language_info": {
   "codemirror_mode": {
    "name": "ipython",
    "version": 3
   },
   "file_extension": ".py",
   "mimetype": "text/x-python",
   "name": "python",
   "nbconvert_exporter": "python",
   "pygments_lexer": "ipython3",
   "version": "3.9.12"
  },
  "orig_nbformat": 4,
  "vscode": {
   "interpreter": {
    "hash": "40d3a090f54c6569ab1632332b64b2c03c39dcf918b08424e98f38b5ae0af88f"
   }
  }
 },
 "nbformat": 4,
 "nbformat_minor": 2
}
