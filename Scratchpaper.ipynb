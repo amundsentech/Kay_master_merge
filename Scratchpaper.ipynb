{
 "cells": [
  {
   "cell_type": "code",
   "execution_count": 2,
   "metadata": {},
   "outputs": [
    {
     "name": "stdout",
     "output_type": "stream",
     "text": [
      "check for pandas\n",
      "pandas is properly installed\n",
      "check for tqdm\n",
      "tqdm is properly installed\n",
      "check for numpy\n",
      "numpy is properly installed\n"
     ]
    }
   ],
   "source": [
    "import pandas as pd\n",
    "import cleaningtools as ct \n",
    "import file_config as fconfig\n",
    "import merge_config as config\n",
    "import assay_sample_config as aconfig\n",
    "import spectral_config as sconfig\n",
    "import numpy as np\n",
    "import math\n",
    "from tqdm.notebook import tqdm_notebook as tqdm\n",
    "tqdm.pandas()\n",
    "from tqdm import tqdm\n",
    "import os\n",
    "import file_config as fconfig\n",
    "import pandas as pd"
   ]
  },
  {
   "cell_type": "code",
   "execution_count": 7,
   "metadata": {},
   "outputs": [],
   "source": [
    "file='/Volumes/GoogleDrive/Shared drives/AMC Projects/_AZ_Kay/_Lab/XRF/XRF Master.xlsx'\n",
    "sheets=pd.ExcelFile('/Volumes/GoogleDrive/Shared drives/AMC Projects/_AZ_Kay/_Lab/XRF/XRF Master.xlsx')\n",
    "output='/Volumes/GoogleDrive/Shared drives/AMC Projects/_AZ_Kay/_Lab/XRF/_XRF Hole Masters/'\n"
   ]
  },
  {
   "cell_type": "code",
   "execution_count": 9,
   "metadata": {},
   "outputs": [
    {
     "data": {
      "text/plain": [
       "['readme',\n",
       " 'Outdated Master',\n",
       " 'Calibrations',\n",
       " 'QAQC',\n",
       " 'KM-22-73',\n",
       " 'KM-22-76',\n",
       " 'KM-22-77',\n",
       " 'KM-22-78',\n",
       " 'KM-22-80',\n",
       " 'KM-22-81',\n",
       " 'KM-22-82',\n",
       " 'Template',\n",
       " 'KM-21-25A',\n",
       " 'KM-21-27',\n",
       " 'KM-21-28',\n",
       " 'KM-21-42']"
      ]
     },
     "execution_count": 9,
     "metadata": {},
     "output_type": "execute_result"
    }
   ],
   "source": [
    "sheets.sheet_names"
   ]
  },
  {
   "cell_type": "code",
   "execution_count": 10,
   "metadata": {},
   "outputs": [],
   "source": [
    "for sheet in sheets.sheet_names:\n",
    "    data=pd.read_excel(file,sheet_name=sheet)\n",
    "    data.to_excel(output+sheet+'.xlsx')"
   ]
  }
 ],
 "metadata": {
  "kernelspec": {
   "display_name": "Python 3.9.12 ('base')",
   "language": "python",
   "name": "python3"
  },
  "language_info": {
   "codemirror_mode": {
    "name": "ipython",
    "version": 3
   },
   "file_extension": ".py",
   "mimetype": "text/x-python",
   "name": "python",
   "nbconvert_exporter": "python",
   "pygments_lexer": "ipython3",
   "version": "3.9.12"
  },
  "orig_nbformat": 4,
  "vscode": {
   "interpreter": {
    "hash": "40d3a090f54c6569ab1632332b64b2c03c39dcf918b08424e98f38b5ae0af88f"
   }
  }
 },
 "nbformat": 4,
 "nbformat_minor": 2
}
