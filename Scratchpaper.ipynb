{
 "cells": [
  {
   "cell_type": "code",
   "execution_count": 58,
   "metadata": {},
   "outputs": [],
   "source": [
    "import pandas as pd\n",
    "import cleaningtools as ct \n",
    "import file_config as fconfig\n",
    "import math\n"
   ]
  },
  {
   "cell_type": "code",
   "execution_count": 59,
   "metadata": {},
   "outputs": [
    {
     "data": {
      "text/plain": [
       "'drill assays master.csv'"
      ]
     },
     "execution_count": 59,
     "metadata": {},
     "output_type": "execute_result"
    }
   ],
   "source": [
    "fconfig.assay_fname"
   ]
  },
  {
   "cell_type": "code",
   "execution_count": 66,
   "metadata": {},
   "outputs": [],
   "source": [
    "file=fconfig.hyp_file\n",
    "data=pd.read_csv(file)\n"
   ]
  },
  {
   "cell_type": "code",
   "execution_count": 70,
   "metadata": {},
   "outputs": [
    {
     "data": {
      "text/plain": [
       "Int64Index([ 0,  1,  2,  3,  4,  5,  6,  7,  8,  9, 10, 11, 12, 13, 14, 15, 16,\n",
       "            17, 18, 19, 20, 21, 22, 23, 24, 25, 26, 27, 28, 29, 30, 31, 32, 33,\n",
       "            34, 35, 36, 37, 38, 39, 40, 41, 42, 43, 44, 45, 46, 47, 48, 49, 50,\n",
       "            51, 52, 53, 54, 55, 56, 57, 58, 59, 60, 61, 62, 63, 64, 65, 66, 67,\n",
       "            68, 69, 70, 71, 72, 73, 74, 75, 76, 77, 78, 79, 80, 81, 82, 83, 84,\n",
       "            85, 86, 87],\n",
       "           dtype='int64')"
      ]
     },
     "execution_count": 70,
     "metadata": {},
     "output_type": "execute_result"
    }
   ],
   "source": [
    "data[data.Sample_ID.isna()].index"
   ]
  },
  {
   "cell_type": "code",
   "execution_count": 71,
   "metadata": {},
   "outputs": [],
   "source": [
    "def depth_cleanup(data):\n",
    "    for col in data.columns:\n",
    "        if 'hole' in col.lower() and 'id' in col.lower():\n",
    "            print(f'use {col} as the hole id columns')\n",
    "            hole=col\n",
    "            if data[hole].str.contains('XX',na=False).any():\n",
    "                drop_index=data[data[hole].str.contains('XX',na=False)].index\n",
    "                data.drop(drop_index,axis=0,inplace=True)\n",
    "        if 'geo' in col.lower():        \n",
    "            geo=col\n",
    "            print(f'use {col} as the Geo column')\n",
    "        if 'sample' in col.lower() and 'id' in col.lower():        \n",
    "            sample=col\n",
    "            print(f'use {col} as the sample_ id column/ drop na samples')\n",
    "            drop_index=data[data[sample].isna()].index\n",
    "            data.drop(drop_index,axis=0,inplace=True)\n",
    "        if data[col].isna().sum()==len(data):\n",
    "            print(f'dropping {col}')\n",
    "            data.drop(col,axis=1,inplace=True)\n",
    "    data.drop(data[(data[hole].isna()==True)& (data[geo].isna()==True)].index,axis=0,inplace=True)\n",
    "    data.loc[data[data[hole].isna()==True].index,hole]=data.loc[data[data[hole].isna()==True].index,'foldername']\n",
    "    print ('drop na hole ids')\n",
    "    na_num=math.floor(data.shape[1]/2)\n",
    "    data=data.drop(data[data.isna().sum(axis=1)>=(na_num)].index,axis=0)\n",
    "    print ('drop na rows')\n",
    "    return data"
   ]
  },
  {
   "cell_type": "code",
   "execution_count": 72,
   "metadata": {},
   "outputs": [
    {
     "name": "stdout",
     "output_type": "stream",
     "text": [
      "use Geo as the Geo column\n",
      "use Sample_ID as the sample_ id column\n",
      "dropping Work_Order\n",
      "use Hole_ID as the hole id columns\n",
      "dropping Description\n",
      "dropping Unnamed: 7\n",
      "dropping _2\n",
      "dropping CHANGE FOR NEW HOLE !!\n",
      "dropping _3\n",
      "dropping depth\n",
      "dropping _4\n",
      "dropping _5\n",
      "dropping _6\n",
      "dropping _7\n",
      "dropping _8\n",
      "dropping _9\n",
      "dropping _10\n",
      "dropping _11\n",
      "dropping _12\n",
      "dropping _13\n",
      "dropping _14\n",
      "dropping _15\n",
      "dropping _16\n",
      "dropping _17\n",
      "dropping _18\n",
      "dropping _19\n",
      "drop na hole ids\n",
      "drop na rows\n"
     ]
    },
    {
     "data": {
      "text/plain": [
       "Geo           0\n",
       "Sample_ID     0\n",
       "Hole_ID       0\n",
       "Depth_ft      0\n",
       "Depth_m       0\n",
       "foldername    0\n",
       "filename      0\n",
       "dtype: int64"
      ]
     },
     "execution_count": 72,
     "metadata": {},
     "output_type": "execute_result"
    }
   ],
   "source": [
    "data=depth_cleanup(data)\n",
    "data.isna().sum(axis=0)"
   ]
  },
  {
   "cell_type": "code",
   "execution_count": 73,
   "metadata": {},
   "outputs": [
    {
     "data": {
      "text/html": [
       "<div>\n",
       "<style scoped>\n",
       "    .dataframe tbody tr th:only-of-type {\n",
       "        vertical-align: middle;\n",
       "    }\n",
       "\n",
       "    .dataframe tbody tr th {\n",
       "        vertical-align: top;\n",
       "    }\n",
       "\n",
       "    .dataframe thead th {\n",
       "        text-align: right;\n",
       "    }\n",
       "</style>\n",
       "<table border=\"1\" class=\"dataframe\">\n",
       "  <thead>\n",
       "    <tr style=\"text-align: right;\">\n",
       "      <th></th>\n",
       "      <th>Geo</th>\n",
       "      <th>Sample_ID</th>\n",
       "      <th>Hole_ID</th>\n",
       "      <th>Depth_ft</th>\n",
       "      <th>Depth_m</th>\n",
       "      <th>foldername</th>\n",
       "      <th>filename</th>\n",
       "    </tr>\n",
       "  </thead>\n",
       "  <tbody>\n",
       "    <tr>\n",
       "      <th>88</th>\n",
       "      <td>JR</td>\n",
       "      <td>G452077</td>\n",
       "      <td>KM-22-77</td>\n",
       "      <td>700.0</td>\n",
       "      <td>213.36</td>\n",
       "      <td>KM-22-77</td>\n",
       "      <td>KM-22-77  HYP-PKG Samples.xlsx</td>\n",
       "    </tr>\n",
       "    <tr>\n",
       "      <th>89</th>\n",
       "      <td>JR</td>\n",
       "      <td>G452078</td>\n",
       "      <td>KM-22-77</td>\n",
       "      <td>710.0</td>\n",
       "      <td>216.41</td>\n",
       "      <td>KM-22-77</td>\n",
       "      <td>KM-22-77  HYP-PKG Samples.xlsx</td>\n",
       "    </tr>\n",
       "    <tr>\n",
       "      <th>90</th>\n",
       "      <td>JR</td>\n",
       "      <td>G452079</td>\n",
       "      <td>KM-22-77</td>\n",
       "      <td>720.0</td>\n",
       "      <td>219.46</td>\n",
       "      <td>KM-22-77</td>\n",
       "      <td>KM-22-77  HYP-PKG Samples.xlsx</td>\n",
       "    </tr>\n",
       "    <tr>\n",
       "      <th>91</th>\n",
       "      <td>JR</td>\n",
       "      <td>G452080</td>\n",
       "      <td>KM-22-77</td>\n",
       "      <td>730.0</td>\n",
       "      <td>222.50</td>\n",
       "      <td>KM-22-77</td>\n",
       "      <td>KM-22-77  HYP-PKG Samples.xlsx</td>\n",
       "    </tr>\n",
       "    <tr>\n",
       "      <th>92</th>\n",
       "      <td>JR</td>\n",
       "      <td>G452081</td>\n",
       "      <td>KM-22-77</td>\n",
       "      <td>740.0</td>\n",
       "      <td>225.55</td>\n",
       "      <td>KM-22-77</td>\n",
       "      <td>KM-22-77  HYP-PKG Samples.xlsx</td>\n",
       "    </tr>\n",
       "    <tr>\n",
       "      <th>...</th>\n",
       "      <td>...</td>\n",
       "      <td>...</td>\n",
       "      <td>...</td>\n",
       "      <td>...</td>\n",
       "      <td>...</td>\n",
       "      <td>...</td>\n",
       "      <td>...</td>\n",
       "    </tr>\n",
       "    <tr>\n",
       "      <th>1163</th>\n",
       "      <td>RH</td>\n",
       "      <td>C515420</td>\n",
       "      <td>KM-21-30</td>\n",
       "      <td>1720.0</td>\n",
       "      <td>524.26</td>\n",
       "      <td>KM-22-30</td>\n",
       "      <td>KM-21-30  HYP-PKG Samples.xlsx</td>\n",
       "    </tr>\n",
       "    <tr>\n",
       "      <th>1164</th>\n",
       "      <td>RH</td>\n",
       "      <td>C515421</td>\n",
       "      <td>KM-21-30</td>\n",
       "      <td>1730.0</td>\n",
       "      <td>527.30</td>\n",
       "      <td>KM-22-30</td>\n",
       "      <td>KM-21-30  HYP-PKG Samples.xlsx</td>\n",
       "    </tr>\n",
       "    <tr>\n",
       "      <th>1165</th>\n",
       "      <td>RH</td>\n",
       "      <td>C515422</td>\n",
       "      <td>KM-21-30</td>\n",
       "      <td>1740.0</td>\n",
       "      <td>530.35</td>\n",
       "      <td>KM-22-30</td>\n",
       "      <td>KM-21-30  HYP-PKG Samples.xlsx</td>\n",
       "    </tr>\n",
       "    <tr>\n",
       "      <th>1166</th>\n",
       "      <td>RH</td>\n",
       "      <td>C515423</td>\n",
       "      <td>KM-21-30</td>\n",
       "      <td>1750.0</td>\n",
       "      <td>533.40</td>\n",
       "      <td>KM-22-30</td>\n",
       "      <td>KM-21-30  HYP-PKG Samples.xlsx</td>\n",
       "    </tr>\n",
       "    <tr>\n",
       "      <th>1167</th>\n",
       "      <td>RH</td>\n",
       "      <td>C515424</td>\n",
       "      <td>KM-21-30</td>\n",
       "      <td>1760.0</td>\n",
       "      <td>536.45</td>\n",
       "      <td>KM-22-30</td>\n",
       "      <td>KM-21-30  HYP-PKG Samples.xlsx</td>\n",
       "    </tr>\n",
       "  </tbody>\n",
       "</table>\n",
       "<p>1080 rows × 7 columns</p>\n",
       "</div>"
      ],
      "text/plain": [
       "     Geo Sample_ID   Hole_ID  Depth_ft  Depth_m foldername  \\\n",
       "88    JR   G452077  KM-22-77     700.0   213.36   KM-22-77   \n",
       "89    JR   G452078  KM-22-77     710.0   216.41   KM-22-77   \n",
       "90    JR   G452079  KM-22-77     720.0   219.46   KM-22-77   \n",
       "91    JR   G452080  KM-22-77     730.0   222.50   KM-22-77   \n",
       "92    JR   G452081  KM-22-77     740.0   225.55   KM-22-77   \n",
       "...   ..       ...       ...       ...      ...        ...   \n",
       "1163  RH   C515420  KM-21-30    1720.0   524.26   KM-22-30   \n",
       "1164  RH   C515421  KM-21-30    1730.0   527.30   KM-22-30   \n",
       "1165  RH   C515422  KM-21-30    1740.0   530.35   KM-22-30   \n",
       "1166  RH   C515423  KM-21-30    1750.0   533.40   KM-22-30   \n",
       "1167  RH   C515424  KM-21-30    1760.0   536.45   KM-22-30   \n",
       "\n",
       "                            filename  \n",
       "88    KM-22-77  HYP-PKG Samples.xlsx  \n",
       "89    KM-22-77  HYP-PKG Samples.xlsx  \n",
       "90    KM-22-77  HYP-PKG Samples.xlsx  \n",
       "91    KM-22-77  HYP-PKG Samples.xlsx  \n",
       "92    KM-22-77  HYP-PKG Samples.xlsx  \n",
       "...                              ...  \n",
       "1163  KM-21-30  HYP-PKG Samples.xlsx  \n",
       "1164  KM-21-30  HYP-PKG Samples.xlsx  \n",
       "1165  KM-21-30  HYP-PKG Samples.xlsx  \n",
       "1166  KM-21-30  HYP-PKG Samples.xlsx  \n",
       "1167  KM-21-30  HYP-PKG Samples.xlsx  \n",
       "\n",
       "[1080 rows x 7 columns]"
      ]
     },
     "execution_count": 73,
     "metadata": {},
     "output_type": "execute_result"
    }
   ],
   "source": [
    "data"
   ]
  },
  {
   "cell_type": "markdown",
   "metadata": {},
   "source": []
  }
 ],
 "metadata": {
  "kernelspec": {
   "display_name": "Python 3.9.12 ('base')",
   "language": "python",
   "name": "python3"
  },
  "language_info": {
   "codemirror_mode": {
    "name": "ipython",
    "version": 3
   },
   "file_extension": ".py",
   "mimetype": "text/x-python",
   "name": "python",
   "nbconvert_exporter": "python",
   "pygments_lexer": "ipython3",
   "version": "3.9.12"
  },
  "orig_nbformat": 4,
  "vscode": {
   "interpreter": {
    "hash": "40d3a090f54c6569ab1632332b64b2c03c39dcf918b08424e98f38b5ae0af88f"
   }
  }
 },
 "nbformat": 4,
 "nbformat_minor": 2
}
